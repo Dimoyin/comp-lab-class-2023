{
 "cells": [
  {
   "cell_type": "code",
   "execution_count": 4,
   "metadata": {},
   "outputs": [
    {
     "name": "stdout",
     "output_type": "stream",
     "text": [
      "Defaulting to user installation because normal site-packages is not writeable\n",
      "Collecting mdtraj\n",
      "  Downloading mdtraj-1.9.9.tar.gz (2.2 MB)\n",
      "\u001b[K     |████████████████████████████████| 2.2 MB 33.3 MB/s eta 0:00:01\n",
      "\u001b[?25h  Installing build dependencies ... \u001b[?25ldone\n",
      "\u001b[?25h  Getting requirements to build wheel ... \u001b[?25ldone\n",
      "\u001b[?25h    Preparing wheel metadata ... \u001b[?25ldone\n",
      "\u001b[?25hRequirement already satisfied: pyparsing in /share/apps/python/3.8.6/intel/lib/python3.8/site-packages (from mdtraj) (2.4.7)\n",
      "Requirement already satisfied: scipy in /share/apps/python/3.8.6/intel/lib/python3.8/site-packages/scipy-1.5.2-py3.8-linux-x86_64.egg (from mdtraj) (1.5.2)\n",
      "Requirement already satisfied: numpy>=1.6 in /share/apps/python/3.8.6/intel/lib/python3.8/site-packages/numpy-1.19.2-py3.8-linux-x86_64.egg (from mdtraj) (1.19.2)\n",
      "Collecting astunparse\n",
      "  Downloading astunparse-1.6.3-py2.py3-none-any.whl (12 kB)\n",
      "Requirement already satisfied: wheel<1.0,>=0.23.0 in /share/apps/python/3.8.6/intel/lib/python3.8/site-packages (from astunparse->mdtraj) (0.35.1)\n",
      "Requirement already satisfied: six<2.0,>=1.6.1 in /share/apps/python/3.8.6/intel/lib/python3.8/site-packages (from astunparse->mdtraj) (1.15.0)\n",
      "Building wheels for collected packages: mdtraj\n",
      "  Building wheel for mdtraj (PEP 517) ... \u001b[?25ldone\n",
      "\u001b[?25h  Created wheel for mdtraj: filename=mdtraj-1.9.9-cp38-cp38-linux_x86_64.whl size=7796150 sha256=1c0ebf3f3b82875540e6fcb7699411ea6f4876f1991ebe11ba0abfa80528031b\n",
      "  Stored in directory: /home/ly2571/.cache/pip/wheels/95/29/b8/258d40960f6d13d8b23759a41bead59d0609f09afc32cab492\n",
      "Successfully built mdtraj\n",
      "Installing collected packages: astunparse, mdtraj\n",
      "Successfully installed astunparse-1.6.3 mdtraj-1.9.9\n",
      "\u001b[33mWARNING: You are using pip version 20.2.3; however, version 23.2.1 is available.\n",
      "You should consider upgrading via the '/share/apps/python/3.8.6/intel/bin/python -m pip install --upgrade pip' command.\u001b[0m\n",
      "Note: you may need to restart the kernel to use updated packages.\n"
     ]
    }
   ],
   "source": [
    "pip install mdtraj"
   ]
  },
  {
   "cell_type": "code",
   "execution_count": 12,
   "metadata": {},
   "outputs": [],
   "source": [
    "import numpy as np"
   ]
  },
  {
   "cell_type": "code",
   "execution_count": 3,
   "metadata": {},
   "outputs": [],
   "source": [
    "from __future__ import print_function\n",
    "import matplotlib.pyplot as plt\n",
    "import itertools\n",
    "import mdtraj as md\n",
    "import mdtraj.testing"
   ]
  },
  {
   "cell_type": "code",
   "execution_count": 7,
   "metadata": {},
   "outputs": [
    {
     "name": "stdout",
     "output_type": "stream",
     "text": [
      "<mdtraj.Trajectory with 1 frames, 1405 atoms, 134 residues, and unitcells>\n"
     ]
    }
   ],
   "source": [
    "t = md.load_pdb(\"Data/1UBQ_processed.pdb\")\n",
    "print(t)"
   ]
  },
  {
   "cell_type": "code",
   "execution_count": 8,
   "metadata": {},
   "outputs": [
    {
     "name": "stdout",
     "output_type": "stream",
     "text": [
      "the Number of Hydrogen Bounds is  57\n",
      "[[   0    3  285]\n",
      " [  36   37  254]\n",
      " [  55   56 1044]\n",
      " [  75   76  221]\n",
      " [  91   92 1077]\n",
      " [ 113  114  188]\n",
      " [ 146  147  119]\n",
      " [ 160  161  126]\n",
      " [ 203  204   90]\n",
      " [ 236  237   54]\n",
      " [ 270  271   18]\n",
      " [ 286  287  335]\n",
      " [ 326  327  300]\n",
      " [ 352  353  869]\n",
      " [ 371  372  838]\n",
      " [ 386  387  344]\n",
      " [ 386  387  351]\n",
      " [ 400  401  351]\n",
      " [ 416  417  370]\n",
      " [ 432  434  836]\n",
      " [ 438  439  385]\n",
      " [ 448  449  399]\n",
      " [ 464  466  269]\n",
      " [ 470  471  415]\n",
      " [ 489  490  437]\n",
      " [ 506  507  447]\n",
      " [ 518  519  469]\n",
      " [ 540  541  488]\n",
      " [ 555  556  505]\n",
      " [ 621  622  594]\n",
      " [ 638  639  608]\n",
      " [ 650  651  580]\n",
      " [ 650  652  437]\n",
      " [ 655  656 1129]\n",
      " [ 668  669  788]\n",
      " [ 698  699 1094]\n",
      " [ 717  718  775]\n",
      " [ 754  755  736]\n",
      " [ 793  794  697]\n",
      " [ 812  813  939]\n",
      " [ 846  847  826]\n",
      " [ 870  871  922]\n",
      " [ 884  885  337]\n",
      " [ 903  904  314]\n",
      " [ 914  915  876]\n",
      " [ 914  915  883]\n",
      " [ 926  927  902]\n",
      " [ 947  948  913]\n",
      " [ 961  962  902]\n",
      " [1019 1020   35]\n",
      " [1034 1035  996]\n",
      " [1059 1060   74]\n",
      " [1078 1079  716]\n",
      " [1095 1096  112]\n",
      " [1114 1115  678]\n",
      " [1149 1150  637]\n",
      " [1168 1169  654]]\n"
     ]
    }
   ],
   "source": [
    "hbonds = md.baker_hubbard(t, periodic=False)\n",
    "print(\"the Number of Hydrogen Bounds is \",len(hbonds))\n",
    "print(hbonds)"
   ]
  },
  {
   "cell_type": "code",
   "execution_count": 9,
   "metadata": {},
   "outputs": [
    {
     "name": "stdout",
     "output_type": "stream",
     "text": [
      "MET1-N -- VAL17-O\n",
      "ILE3-N -- LEU15-O\n",
      "PHE4-N -- SER65-O\n",
      "VAL5-N -- ILE13-O\n",
      "LYS6-N -- LEU67-O\n",
      "THR7-N -- LYS11-O\n",
      "THR9-N -- THR7-OG1\n",
      "GLY10-N -- THR7-O\n",
      "ILE13-N -- VAL5-O\n",
      "LEU15-N -- ILE3-O\n",
      "VAL17-N -- MET1-O\n",
      "GLU18-N -- ASP21-OD2\n",
      "ASP21-N -- GLU18-O\n",
      "ILE23-N -- ARG54-O\n",
      "GLU24-N -- ASP52-O\n",
      "ASN25-N -- THR22-OG1\n",
      "ASN25-N -- THR22-O\n",
      "VAL26-N -- THR22-O\n",
      "LYS27-N -- ILE23-O\n",
      "LYS27-NZ -- ASP52-OD2\n",
      "ALA28-N -- GLU24-O\n",
      "LYS29-N -- ASN25-O\n",
      "LYS29-NZ -- GLU16-O\n",
      "ILE30-N -- VAL26-O\n",
      "GLN31-N -- LYS27-O\n",
      "ASP32-N -- ALA28-O\n",
      "LYS33-N -- LYS29-O\n",
      "GLU34-N -- ILE30-O\n",
      "GLY35-N -- GLN31-O\n",
      "GLN40-N -- PRO37-O\n",
      "GLN41-N -- PRO38-O\n",
      "GLN41-NE2 -- ILE36-O\n",
      "GLN41-NE2 -- LYS27-O\n",
      "ARG42-N -- VAL70-O\n",
      "ARG42-NE -- GLN49-NE2\n",
      "ILE44-N -- HIS68-O\n",
      "PHE45-N -- LYS48-O\n",
      "LYS48-N -- PHE45-O\n",
      "LEU50-N -- LEU43-O\n",
      "GLU51-N -- TYR59-OH\n",
      "ARG54-N -- GLU51-O\n",
      "THR55-N -- ASP58-OD1\n",
      "LEU56-N -- ASP21-O\n",
      "SER57-N -- PRO19-O\n",
      "ASP58-N -- THR55-OG1\n",
      "ASP58-N -- THR55-O\n",
      "TYR59-N -- LEU56-O\n",
      "ASN60-N -- SER57-O\n",
      "ILE61-N -- LEU56-O\n",
      "GLU64-N -- GLN2-O\n",
      "SER65-N -- GLN62-O\n",
      "LEU67-N -- PHE4-O\n",
      "HIS68-N -- ILE44-O\n",
      "LEU69-N -- LYS6-O\n",
      "VAL70-N -- ARG42-O\n",
      "ARG72-N -- GLN40-O\n",
      "ARG72-NH2 -- GLN41-O\n",
      "the Number of Hydrogen Bounds is  57\n"
     ]
    }
   ],
   "source": [
    "label = lambda hbond : '%s -- %s' % (t.topology.atom(hbond[0]), t.topology.atom(hbond[2]))\n",
    "Num_hbonds = 0\n",
    "\n",
    "for hbond in hbonds:\n",
    "    Num_hbonds += 1\n",
    "    print(label(hbond))\n",
    "print(\"the Number of Hydrogen Bounds is \",Num_hbonds)"
   ]
  },
  {
   "cell_type": "code",
   "execution_count": 10,
   "metadata": {},
   "outputs": [
    {
     "data": {
      "text/plain": [
       "array([['C', 'E', 'E', 'E', 'E', 'E', 'E', 'C', 'C', 'C', 'C', 'E', 'E',\n",
       "        'E', 'E', 'E', 'C', 'C', 'C', 'C', 'C', 'E', 'H', 'H', 'H', 'H',\n",
       "        'H', 'H', 'H', 'H', 'H', 'H', 'H', 'H', 'C', 'C', 'C', 'H', 'H',\n",
       "        'H', 'E', 'E', 'E', 'E', 'E', 'C', 'C', 'E', 'E', 'C', 'C', 'C',\n",
       "        'C', 'C', 'E', 'C', 'H', 'H', 'H', 'C', 'C', 'C', 'C', 'C', 'C',\n",
       "        'E', 'E', 'E', 'E', 'E', 'E', 'C', 'C', 'C', 'C', 'C', 'NA',\n",
       "        'NA', 'NA', 'NA', 'NA', 'NA', 'NA', 'NA', 'NA', 'NA', 'NA', 'NA',\n",
       "        'NA', 'NA', 'NA', 'NA', 'NA', 'NA', 'NA', 'NA', 'NA', 'NA', 'NA',\n",
       "        'NA', 'NA', 'NA', 'NA', 'NA', 'NA', 'NA', 'NA', 'NA', 'NA', 'NA',\n",
       "        'NA', 'NA', 'NA', 'NA', 'NA', 'NA', 'NA', 'NA', 'NA', 'NA', 'NA',\n",
       "        'NA', 'NA', 'NA', 'NA', 'NA', 'NA', 'NA', 'NA', 'NA', 'NA', 'NA',\n",
       "        'NA', 'NA']], dtype='<U2')"
      ]
     },
     "execution_count": 10,
     "metadata": {},
     "output_type": "execute_result"
    }
   ],
   "source": [
    "DSSP = mdtraj.compute_dssp(t, simplified=True)\n",
    "DSSP"
   ]
  },
  {
   "cell_type": "code",
   "execution_count": 13,
   "metadata": {},
   "outputs": [
    {
     "data": {
      "text/plain": [
       "{'C': 32, 'E': 26, 'H': 18, 'NA': 58}"
      ]
     },
     "execution_count": 13,
     "metadata": {},
     "output_type": "execute_result"
    }
   ],
   "source": [
    "unique, counts = np.unique(DSSP, return_counts=True)\n",
    "Statistics=dict(zip(unique, counts))\n",
    "Statistics"
   ]
  },
  {
   "cell_type": "code",
   "execution_count": null,
   "metadata": {},
   "outputs": [],
   "source": []
  },
  {
   "cell_type": "code",
   "execution_count": null,
   "metadata": {},
   "outputs": [],
   "source": []
  }
 ],
 "metadata": {
  "kernelspec": {
   "display_name": "Python 3",
   "language": "python",
   "name": "python3"
  },
  "language_info": {
   "codemirror_mode": {
    "name": "ipython",
    "version": 3
   },
   "file_extension": ".py",
   "mimetype": "text/x-python",
   "name": "python",
   "nbconvert_exporter": "python",
   "pygments_lexer": "ipython3",
   "version": "3.8.6"
  }
 },
 "nbformat": 4,
 "nbformat_minor": 4
}
